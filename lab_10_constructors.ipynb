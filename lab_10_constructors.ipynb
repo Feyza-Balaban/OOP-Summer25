{
 "cells": [
  {
   "cell_type": "markdown",
   "id": "d4e869f6",
   "metadata": {},
   "source": [
    "## Task for extra point - complex constructor\n"
   ]
  },
  {
   "cell_type": "code",
   "execution_count": 9,
   "id": "e9bea520",
   "metadata": {},
   "outputs": [],
   "source": [
    "class House:\n",
    "    def _init_(self, location, floors, furnitures):\n",
    "        self.location = location\n",
    "        self.floors = floors\n",
    "        self.furnitures = furnitures\n",
    "        print(f\"House in {location['city']}, {location['country']} with {floors} floors and furniture: {', '.join(furnitures)}\")"
   ]
  },
  {
   "cell_type": "code",
   "execution_count": 10,
   "id": "a223701b",
   "metadata": {},
   "outputs": [
    {
     "ename": "SyntaxError",
     "evalue": "invalid non-printable character U+00A0 (3786228947.py, line 10)",
     "output_type": "error",
     "traceback": [
      "  \u001b[36mCell\u001b[39m\u001b[36m \u001b[39m\u001b[32mIn[10]\u001b[39m\u001b[32m, line 10\u001b[39m\n\u001b[31m    \u001b[39m\u001b[31mfurnitures=['sofa', 'lamp']\u001b[39m\n                       ^\n\u001b[31mSyntaxError\u001b[39m\u001b[31m:\u001b[39m invalid non-printable character U+00A0\n"
     ]
    }
   ],
   "source": [
    "house1 = House(\n",
    "    location={'country': 'Poland', 'city': 'Warsaw', 'street': 'Main St 123'},\n",
    "    floors=3,\n",
    "    furnitures=['table', 'chair', 'bed']\n",
    ")\n",
    "\n",
    "house2 = House(\n",
    "    location={'country': 'Germany', 'city': 'Berlin', 'street': 'Alexanderplatz 5'},\n",
    "    floors=2,\n",
    "    furnitures=['sofa', 'lamp']\n",
    ")"
   ]
  }
 ],
 "metadata": {
  "kernelspec": {
   "display_name": "Python 3",
   "language": "python",
   "name": "python3"
  },
  "language_info": {
   "codemirror_mode": {
    "name": "ipython",
    "version": 3
   },
   "file_extension": ".py",
   "mimetype": "text/x-python",
   "name": "python",
   "nbconvert_exporter": "python",
   "pygments_lexer": "ipython3",
   "version": "3.12.1"
  }
 },
 "nbformat": 4,
 "nbformat_minor": 5
}
