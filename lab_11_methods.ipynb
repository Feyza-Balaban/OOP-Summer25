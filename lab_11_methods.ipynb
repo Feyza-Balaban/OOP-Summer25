{
 "cells": [
  {
   "cell_type": "code",
   "execution_count": null,
   "id": "19947a50",
   "metadata": {},
   "outputs": [],
   "source": [
    "my_dog = MyAnimal()\n",
    "my_dog.make_sound('Timmy')\n"
   ]
  },
  {
   "cell_type": "code",
   "execution_count": null,
   "id": "d42b11a0",
   "metadata": {},
   "outputs": [],
   "source": [
    "class MyAnimal:\n",
    "    def make_sound(self, name):\n",
    "        print('Woof!', name)\n"
   ]
  },
  {
   "cell_type": "code",
   "execution_count": null,
   "id": "7b1cc066",
   "metadata": {},
   "outputs": [],
   "source": [
    "my_dog = MyAnimal()\n",
    "my_dog.make_sound()\n"
   ]
  },
  {
   "cell_type": "code",
   "execution_count": null,
   "id": "142b1490",
   "metadata": {},
   "outputs": [],
   "source": [
    "class MyAnimal:\n",
    "    def make_sound(self):\n",
    "        print('Woof!')\n"
   ]
  },
  {
   "cell_type": "markdown",
   "id": "dac036f5",
   "metadata": {},
   "source": [
    "Methods are functions that belong to objects (instances of classes).\n"
   ]
  },
  {
   "cell_type": "code",
   "execution_count": null,
   "id": "5c11447e",
   "metadata": {},
   "outputs": [],
   "source": [
    "make_sound('Timmy')\n",
    "\n"
   ]
  },
  {
   "cell_type": "code",
   "execution_count": null,
   "id": "a36cd9f8",
   "metadata": {},
   "outputs": [],
   "source": [
    "def make_sound(name):\n",
    "    print('Woof!', name)\n"
   ]
  },
  {
   "cell_type": "code",
   "execution_count": null,
   "id": "47143331",
   "metadata": {},
   "outputs": [],
   "source": [
    "make_sound()\n",
    "\n"
   ]
  },
  {
   "cell_type": "code",
   "execution_count": null,
   "id": "dd774fa1",
   "metadata": {
    "vscode": {
     "languageId": "plaintext"
    }
   },
   "outputs": [],
   "source": [
    "def make_sound():\n",
    "    print('Woof!')\n"
   ]
  },
  {
   "cell_type": "markdown",
   "id": "53e14458",
   "metadata": {},
   "source": [
    "A function is a block of code which only runs when it is called.\n",
    "You can pass data (arguments) into a function.\n",
    "A function can return data as a result.\n"
   ]
  }
 ],
 "metadata": {
  "language_info": {
   "name": "python"
  }
 },
 "nbformat": 4,
 "nbformat_minor": 5
}
